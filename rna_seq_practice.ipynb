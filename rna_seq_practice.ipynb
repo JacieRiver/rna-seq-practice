{
  "nbformat": 4,
  "nbformat_minor": 0,
  "metadata": {
    "colab": {
      "provenance": [],
      "collapsed_sections": [
        "ucHWeofIDjbE"
      ],
      "authorship_tag": "ABX9TyMHVYkOwRsGR/rUDUzkNbhJ"
    },
    "kernelspec": {
      "name": "python3",
      "display_name": "Python 3"
    },
    "language_info": {
      "name": "python"
    }
  },
  "cells": [
    {
      "cell_type": "markdown",
      "source": [
        "# RNA-seq Practice Notebook\n",
        "_This notebook is going to be documentation of what I learned in my self study of rna-seq data analysis using PyDESeq2_"
      ],
      "metadata": {
        "id": "XZe3PoPb_uJO"
      }
    },
    {
      "cell_type": "markdown",
      "source": [
        "## Part 1: Original Protocol Exploration\n",
        "_these cells follow protocol for comprehension_\n",
        "\n"
      ],
      "metadata": {
        "id": "YdUyq4SRBzJ1"
      }
    },
    {
      "cell_type": "markdown",
      "source": [
        "### 1.1 Overview"
      ],
      "metadata": {
        "id": "R_jHWg86DV1V"
      }
    },
    {
      "cell_type": "markdown",
      "source": [
        "* WHAT does DESeq2 do in simple words?\n",
        "  * it is a tool used to analyze RNA sequencing data which help you figure out which genes show significant changes in expression levels between 2 or more groups of samples.\n",
        "* HOW does it do that?\n",
        "  * It compares RNA counts (gene transcripts) are present in each sample\n",
        "    * Counts tell you how \"active\" each gene is.\n",
        "  *normalizes the data and runs statistical tests to find genes that are consistently more or less active in one group compared to another.\n",
        "* WHY does differential expression analysis matter?\n",
        "  * Tells you how gene expression changes in response to different conditions (like drug treatments, disease states, stress, or development)  \n",
        "    * Can reveal important biological mechanisms, potential drug targets, or biomarkers.\n"
      ],
      "metadata": {
        "id": "z_Rhpf_x93PE"
      }
    },
    {
      "cell_type": "markdown",
      "source": [
        "### 1.2 Required Import Packages"
      ],
      "metadata": {
        "id": "edufOFl45YTi"
      }
    },
    {
      "cell_type": "code",
      "source": [
        "# Install PyDESeq2 in Colab (only needed once per session)\n",
        "!pip install pydeseq2\n",
        "\n",
        "#import required packages\n",
        "import os\n",
        "import pickle as pkl\n",
        "\n",
        "import numpy as np\n",
        "\n",
        "from pydeseq2.dds import DeseqDataSet\n",
        "from pydeseq2.default_inference import DefaultInference\n",
        "from pydeseq2.ds import DeseqStats\n",
        "from pydeseq2.utils import load_example_data\n",
        "\n",
        "#prepare for saving files\n",
        "SAVE = False  # whether to save the outputs of this notebook\n",
        "\n",
        "if SAVE:\n",
        "    # Replace this with the path to directory where you would like results to be\n",
        "    # saved\n",
        "    OUTPUT_PATH = \"../output_files/synthetic_example\"\n",
        "    os.makedirs(OUTPUT_PATH, exist_ok=True)  # Create path if it doesn't exist"
      ],
      "metadata": {
        "id": "-PKmBx8b5qnr"
      },
      "execution_count": null,
      "outputs": []
    },
    {
      "cell_type": "markdown",
      "source": [
        "### 1.3 Data Loading"
      ],
      "metadata": {
        "id": "F2KOQje_7Xru"
      }
    },
    {
      "cell_type": "markdown",
      "source": [
        "* PyDESeq2 requires **two types of inputs** to perform differential expression analysis (DEA):\n",
        "  * count matrix\n",
        "    * shape: '# of samples' x '# of genes'\n",
        "    * containing read counts (non-negative integers)\n",
        "  * Metadata\n",
        "    * shape: '# of samples' x '# of variables'\n",
        "    * containing sample annotations that will be used to split data in cohorts\n",
        "  * **BOTH should be provided as pandas dataframes**"
      ],
      "metadata": {
        "id": "JGVmrIym87ki"
      }
    },
    {
      "cell_type": "code",
      "source": [
        "#loading an example dataset\n",
        "\n",
        "counts_df = load_example_data(\n",
        "    modality=\"raw_counts\",\n",
        "    dataset=\"synthetic\",\n",
        "    debug=False,\n",
        ")\n",
        "\n",
        "metadata = load_example_data(\n",
        "    modality=\"metadata\",\n",
        "    dataset=\"synthetic\",\n",
        "    debug=False,\n",
        ")"
      ],
      "metadata": {
        "id": "mMd38YyB9Oc2"
      },
      "execution_count": null,
      "outputs": []
    },
    {
      "cell_type": "markdown",
      "source": [
        "### 1.4 Data Preprocessing"
      ],
      "metadata": {
        "id": "Xiph98gIDBfc"
      }
    },
    {
      "cell_type": "markdown",
      "source": [
        "#### Cleaning - Removing missing or corrupted values"
      ],
      "metadata": {
        "id": "MnH4G5dv3UnP"
      }
    },
    {
      "cell_type": "code",
      "source": [
        "samples_to_keep = ~metadata.condition.isna()\n",
        "counts_df = counts_df.loc[samples_to_keep]\n",
        "metadata = metadata.loc[samples_to_keep]"
      ],
      "metadata": {
        "id": "oh6UiXoZBgQ3"
      },
      "execution_count": null,
      "outputs": []
    },
    {
      "cell_type": "markdown",
      "source": [
        "#### Filtering - Removing low-count genes or outlier samples"
      ],
      "metadata": {
        "id": "xcSMscy53kGJ"
      }
    },
    {
      "cell_type": "code",
      "source": [
        "genes_to_keep = counts_df.columns[counts_df.sum(axis=0) >= 10]\n",
        "counts_df = counts_df[genes_to_keep]"
      ],
      "metadata": {
        "id": "XsbZukp_BnYN"
      },
      "execution_count": null,
      "outputs": []
    },
    {
      "cell_type": "markdown",
      "source": [
        "#### Normalization - Adjusting for sequencing depth"
      ],
      "metadata": {
        "id": "jrkPuYzP3u8J"
      }
    },
    {
      "cell_type": "markdown",
      "source": [
        "#### Type conversion"
      ],
      "metadata": {
        "id": "FifgOOn43ziT"
      }
    },
    {
      "cell_type": "markdown",
      "source": [
        "#### Metadata merging - Linkikng sample annotations with count data"
      ],
      "metadata": {
        "id": "dY1GSaWw368z"
      }
    },
    {
      "cell_type": "markdown",
      "source": [
        "#### Log transformation - Stabilizing variance for visualization or testing"
      ],
      "metadata": {
        "id": "MTSwEgJH4AyT"
      }
    },
    {
      "cell_type": "markdown",
      "source": [
        "### 1.5 Alignment\n"
      ],
      "metadata": {
        "id": "HfBV2xkfDIlU"
      }
    },
    {
      "cell_type": "markdown",
      "source": [
        "### 1.6 Quantification"
      ],
      "metadata": {
        "id": "db6Sm9p7DZLg"
      }
    },
    {
      "cell_type": "markdown",
      "source": [
        "### 1.7 Differential Expression"
      ],
      "metadata": {
        "id": "mIaPuuWgELJ4"
      }
    },
    {
      "cell_type": "markdown",
      "source": [
        "## Part 2: My Brain-Friendly Rewrites and Tinkering"
      ],
      "metadata": {
        "id": "ceooNE_UEwcu"
      }
    },
    {
      "cell_type": "markdown",
      "source": [
        "### 2.1 Starter Notes"
      ],
      "metadata": {
        "id": "QFlQ_6TDzk3e"
      }
    },
    {
      "cell_type": "markdown",
      "source": [
        "* Using PyDESeq2 due to my comfort with Python. I will be using the comfort as a crutch _only as I learn the logic_. The goal is to understand how DESeq2 works.\n",
        "* After understanding the logic and how it works in Python, I will take the time to learn R in order to apply to labs and to follow established pipelines."
      ],
      "metadata": {
        "id": "3bTCQv5ZzzDC"
      }
    },
    {
      "cell_type": "markdown",
      "source": [
        "### 2.2 Refactored Preprocessing"
      ],
      "metadata": {
        "id": "S4zUBymfFD50"
      }
    },
    {
      "cell_type": "markdown",
      "source": [
        "### 2.3 Notes on Troubleshooting"
      ],
      "metadata": {
        "id": "Qzz-ci7rFFLs"
      }
    },
    {
      "cell_type": "markdown",
      "source": [
        "### 2.4 Annnotated Visualization Tweaks"
      ],
      "metadata": {
        "id": "7QJQU_JoFIkL"
      }
    },
    {
      "cell_type": "markdown",
      "source": [
        "# Resources\n"
      ],
      "metadata": {
        "id": "ucHWeofIDjbE"
      }
    },
    {
      "cell_type": "markdown",
      "source": [
        "## Links\n",
        "* Step-by-step PyDESeq2 workflow - https://pydeseq2.readthedocs.io/en/stable/auto_examples/plot_step_by_step.html\n",
        "* A simple PyDESeq2 workflow - https://pydeseq2.readthedocs.io/en/latest/auto_examples/plot_minimal_pydeseq2_pipeline.html\n"
      ],
      "metadata": {
        "id": "-so72q9eEf3m"
      }
    },
    {
      "cell_type": "markdown",
      "source": [
        "## References\n",
        "* Differential Expression with DEseq2 - https://genviz.org/module-04-expression/0004/02/01/DifferentialExpression/#:~:text=Differential%20expression%20analysis%20is%20used,untreated%20samples)."
      ],
      "metadata": {
        "id": "XbfKOjfVEhpD"
      }
    },
    {
      "cell_type": "markdown",
      "source": [
        "## Glossary of Terms"
      ],
      "metadata": {
        "id": "3m6S0EuWEjmi"
      }
    }
  ]
}