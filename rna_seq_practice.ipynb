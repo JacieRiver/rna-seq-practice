{
  "nbformat": 4,
  "nbformat_minor": 0,
  "metadata": {
    "colab": {
      "provenance": [],
      "collapsed_sections": [
        "ucHWeofIDjbE"
      ]
    },
    "kernelspec": {
      "name": "python3",
      "display_name": "Python 3"
    },
    "language_info": {
      "name": "python"
    }
  },
  "cells": [
    {
      "cell_type": "markdown",
      "source": [
        "# RNA-seq Practice Notebook\n",
        "_This notebook is going to be documentation of what I learned in my self study of rna-seq data analysis_"
      ],
      "metadata": {
        "id": "XZe3PoPb_uJO"
      }
    },
    {
      "cell_type": "markdown",
      "source": [
        "## Part 1: Original Protocol Exploration\n",
        "_these cells follow protocol for comprehension_\n",
        "\n"
      ],
      "metadata": {
        "id": "YdUyq4SRBzJ1"
      }
    },
    {
      "cell_type": "markdown",
      "source": [
        "### 1.1 Overview"
      ],
      "metadata": {
        "id": "R_jHWg86DV1V"
      }
    },
    {
      "cell_type": "markdown",
      "source": [
        "### 1.2 Data Preprocessing\n"
      ],
      "metadata": {
        "id": "Xiph98gIDBfc"
      }
    },
    {
      "cell_type": "markdown",
      "source": [
        "### 1.3 Alignment\n"
      ],
      "metadata": {
        "id": "HfBV2xkfDIlU"
      }
    },
    {
      "cell_type": "markdown",
      "source": [
        "### 1.4 Quantification"
      ],
      "metadata": {
        "id": "db6Sm9p7DZLg"
      }
    },
    {
      "cell_type": "markdown",
      "source": [
        "### 1.5 Differential Expression"
      ],
      "metadata": {
        "id": "mIaPuuWgELJ4"
      }
    },
    {
      "cell_type": "markdown",
      "source": [
        "## Part 2: My Brain-Friendly Rewrites and Tinkering"
      ],
      "metadata": {
        "id": "ceooNE_UEwcu"
      }
    },
    {
      "cell_type": "markdown",
      "source": [
        "### 2.1 Refactored Preprocessing"
      ],
      "metadata": {
        "id": "S4zUBymfFD50"
      }
    },
    {
      "cell_type": "markdown",
      "source": [
        "### 2.2 Notes on Troubleshoting"
      ],
      "metadata": {
        "id": "Qzz-ci7rFFLs"
      }
    },
    {
      "cell_type": "markdown",
      "source": [
        "### 2.3 Annnotated Visualization Tweaks"
      ],
      "metadata": {
        "id": "7QJQU_JoFIkL"
      }
    },
    {
      "cell_type": "code",
      "source": [],
      "metadata": {
        "id": "wvMoZ5B6EuGQ"
      },
      "execution_count": null,
      "outputs": []
    },
    {
      "cell_type": "markdown",
      "source": [
        "# Resources\n"
      ],
      "metadata": {
        "id": "ucHWeofIDjbE"
      }
    },
    {
      "cell_type": "code",
      "execution_count": null,
      "metadata": {
        "id": "yYrmNJps_ZIG"
      },
      "outputs": [],
      "source": []
    },
    {
      "cell_type": "markdown",
      "source": [
        "## Links\n"
      ],
      "metadata": {
        "id": "-so72q9eEf3m"
      }
    },
    {
      "cell_type": "markdown",
      "source": [
        "## References\n"
      ],
      "metadata": {
        "id": "XbfKOjfVEhpD"
      }
    },
    {
      "cell_type": "markdown",
      "source": [
        "## Glossary of Terms"
      ],
      "metadata": {
        "id": "3m6S0EuWEjmi"
      }
    }
  ]
}